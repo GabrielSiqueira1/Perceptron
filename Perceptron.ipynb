{
 "cells": [
  {
   "cell_type": "markdown",
   "id": "d4e3a4c9",
   "metadata": {},
   "source": [
    "## Perceptron\n",
    "\n",
    "Nomes: Fernando Veizaga, Gabriel Siqueira"
   ]
  },
  {
   "cell_type": "code",
   "execution_count": null,
   "id": "97953dc1",
   "metadata": {},
   "outputs": [],
   "source": []
  },
  {
   "cell_type": "code",
   "execution_count": null,
   "id": "941fe115",
   "metadata": {},
   "outputs": [],
   "source": [
    "NEURON = 3\n",
    "INPUT = 4"
   ]
  },
  {
   "cell_type": "markdown",
   "id": "e290ef4c",
   "metadata": {},
   "source": [
    "### Função de ativação"
   ]
  },
  {
   "cell_type": "code",
   "execution_count": null,
   "id": "d2292b17",
   "metadata": {},
   "outputs": [],
   "source": [
    "## Degrau\n",
    "\n",
    "def f(X, bias, p):\n",
    "    y = np.zeros(1, len(X))\n",
    "    \n",
    "    if p == 1 :\n",
    "        for i in range len(X):\n",
    "            if(X[i][0] + bias >= 0):\n",
    "                y[0][i] = 1\n",
    "            else:\n",
    "                y[0][i] = 0\n",
    "    \n",
    "    elif p == 2:\n",
    "        for i in range len(X):\n",
    "            y[0][i] = 1/(1+np.exp(-X[i][0]))\n",
    "    elif p == 3:\n",
    "        for i in range len(X):\n",
    "            y[0][i] = 1/(1+np.exp(-X[i][0]))\n",
    "        for i in range len(X):\n",
    "            if(y[0][i] == max(y)):\n",
    "                y[0][i] = 1\n",
    "            else:\n",
    "                y[0][i] = 0\n",
    "    else:\n",
    "        error()\n",
    "            \n",
    "    return y\n",
    "\n",
    "def initialize(X):\n",
    "    "
   ]
  },
  {
   "cell_type": "markdown",
   "id": "c6cc2dda",
   "metadata": {},
   "source": [
    "### Algoritmo de Aprendizagem"
   ]
  },
  {
   "cell_type": "code",
   "execution_count": null,
   "id": "e29d02a3",
   "metadata": {},
   "outputs": [],
   "source": [
    "def perceptron(it, alpha, X, D, p):\n",
    "    W = np.zeros(NEURON,INPUT)\n",
    "    W = initialize(W)\n",
    "    bias = np.zeros(NEURON,1)\n",
    "    bias = initialize(bias)\n",
    "    y = np.zeros(NEURON, 1)\n",
    "    \n",
    "    t = 1\n",
    "    E = 1\n",
    "    \n",
    "    Epoca = np.zeros(it, 1)\n",
    "    \n",
    "    while t < it and E > 0:\n",
    "        E = 0\n",
    "        for i in range(1, len(X[0])):\n",
    "            \n",
    "            I = [X[i] for i in X]\n",
    "            y = f(np.matmul(W, np.transpose(I)), bias, p)\n",
    "            \n",
    "            A = [D[i] for i in D]\n",
    "            e = A - y\n",
    "            \n",
    "            W = W + alpha*e*I\n",
    "            bias = bias + alpha*e\n",
    "            E = E + sum([x**2 for x in e])\n",
    "            \n",
    "        Epoca[t] = E\n",
    "        t = t + 1"
   ]
  }
 ],
 "metadata": {
  "kernelspec": {
   "display_name": "Python 3 (ipykernel)",
   "language": "python",
   "name": "python3"
  },
  "language_info": {
   "codemirror_mode": {
    "name": "ipython",
    "version": 3
   },
   "file_extension": ".py",
   "mimetype": "text/x-python",
   "name": "python",
   "nbconvert_exporter": "python",
   "pygments_lexer": "ipython3",
   "version": "3.10.9"
  }
 },
 "nbformat": 4,
 "nbformat_minor": 5
}
